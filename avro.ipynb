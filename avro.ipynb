{
 "cells": [
  {
   "cell_type": "code",
   "execution_count": 19,
   "metadata": {},
   "outputs": [
    {
     "name": "stderr",
     "output_type": "stream",
     "text": [
      "  % Total    % Received % Xferd  Average Speed   Time    Time     Time  Current\n",
      "                                 Dload  Upload   Total   Spent    Left  Speed\n",
      "\n",
      "  0     0    0     0    0     0      0      0 --:--:-- --:--:-- --:--:--     0\n",
      "  0     0    0     0    0     0      0      0 --:--:-- --:--:-- --:--:--     0\n",
      "\n",
      "100   369  100   369    0     0    492      0 --:--:-- --:--:-- --:--:--   492\n",
      "  % Total    % Received % Xferd  Average Speed   Time    Time     Time  Current\n",
      "                                 Dload  Upload   Total   Spent    Left  Speed\n",
      "\n",
      "  0     0    0     0    0     0      0      0 --:--:-- --:--:-- --:--:--     0\n",
      "  0     0    0     0    0     0      0      0 --:--:-- --:--:-- --:--:--     0\n",
      "  0     0    0     0    0     0      0      0 --:--:-- --:--:-- --:--:--     0\n",
      "\n",
      "100   271  100   271    0     0    736      0 --:--:-- --:--:-- --:--:--   736\n"
     ]
    }
   ],
   "source": [
    "# !pip install avro\n",
    "!curl -OL https://github.com/tensorflow/io/raw/master/docs/tutorials/avro/train.avro\n",
    "!curl -OL https://github.com/tensorflow/io/raw/master/docs/tutorials/avro/train.avsc\n"
   ]
  },
  {
   "cell_type": "code",
   "execution_count": 21,
   "metadata": {},
   "outputs": [
    {
     "name": "stdout",
     "output_type": "stream",
     "text": [
      "{'features': [0, 0, 0, 1, 4], 'label': None, 'dataType': 'TRAINING'}\n",
      "{'features': [0, 0], 'label': 2, 'dataType': 'TRAINING'}\n",
      "{'features': [0], 'label': 3, 'dataType': 'VALIDATION'}\n",
      "{'features': [1], 'label': 4, 'dataType': 'VALIDATION'}\n"
     ]
    }
   ],
   "source": [
    "from avro.io import DatumReader\n",
    "from avro.datafile import DataFileReader\n",
    "\n",
    "import json\n",
    "\n",
    "def print_avro(avro_file, max_record_num=None):\n",
    "    if max_record_num is not None and max_record_num <= 0:\n",
    "        return\n",
    "\n",
    "    with open(avro_file, 'rb') as avro_handler:\n",
    "        reader = DataFileReader(avro_handler, DatumReader())\n",
    "        record_count = 0\n",
    "        for record in reader:\n",
    "            record_count = record_count+1\n",
    "            print(record)\n",
    "            if max_record_num is not None and record_count == max_record_num:\n",
    "               break\n",
    "\n",
    "print_avro(avro_file='train.avro')"
   ]
  },
  {
   "cell_type": "code",
   "execution_count": 22,
   "metadata": {},
   "outputs": [
    {
     "name": "stdout",
     "output_type": "stream",
     "text": [
      "{\n",
      "    \"type\": \"record\",\n",
      "    \"name\": \"ImageDataset\",\n",
      "    \"fields\": [\n",
      "        {\n",
      "            \"type\": {\n",
      "                \"type\": \"array\",\n",
      "                \"items\": \"int\"\n",
      "            },\n",
      "            \"name\": \"features\"\n",
      "        },\n",
      "        {\n",
      "            \"type\": [\n",
      "                \"int\",\n",
      "                \"null\"\n",
      "            ],\n",
      "            \"name\": \"label\"\n",
      "        },\n",
      "        {\n",
      "            \"type\": {\n",
      "                \"type\": \"enum\",\n",
      "                \"name\": \"dataTypes\",\n",
      "                \"symbols\": [\n",
      "                    \"TRAINING\",\n",
      "                    \"VALIDATION\"\n",
      "                ]\n",
      "            },\n",
      "            \"name\": \"dataType\"\n",
      "        }\n",
      "    ]\n",
      "}\n"
     ]
    }
   ],
   "source": [
    "def save_and_print_schema(avro_file, schema_file):\n",
    "    with open(avro_file, 'rb') as avro_handler:\n",
    "        reader = DataFileReader(avro_handler, DatumReader())\n",
    "        metadata = copy.deepcopy(reader.meta)\n",
    "        schema_from_file = json.loads(metadata['avro.schema'])\n",
    "\n",
    "    with open(schema_file, \"w\") as schema_handler:\n",
    "        json.dump(schema_from_file, schema_handler, indent=4)\n",
    "        schema_handler.close()\n",
    "        print(json.dumps(schema_from_file, indent=4))\n",
    "\n",
    "save_and_print_schema(\"train.avro\", \"train_schema.avsc\")"
   ]
  },
  {
   "cell_type": "code",
   "execution_count": null,
   "metadata": {},
   "outputs": [],
   "source": []
  }
 ],
 "metadata": {
  "kernelspec": {
   "display_name": "Python 3",
   "language": "python",
   "name": "python3"
  },
  "language_info": {
   "codemirror_mode": {
    "name": "ipython",
    "version": 3
   },
   "file_extension": ".py",
   "mimetype": "text/x-python",
   "name": "python",
   "nbconvert_exporter": "python",
   "pygments_lexer": "ipython3",
   "version": "3.11.8"
  }
 },
 "nbformat": 4,
 "nbformat_minor": 2
}
