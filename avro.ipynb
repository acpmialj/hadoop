{
 "cells": [
  {
   "cell_type": "code",
   "execution_count": 8,
   "metadata": {},
   "outputs": [
    {
     "name": "stdout",
     "output_type": "stream",
     "text": [
      "Defaulting to user installation because normal site-packages is not writeable\n",
      "Requirement already satisfied: avro in /home/acpmi/.local/lib/python3.10/site-packages (1.12.0)\n",
      "Requirement already satisfied: pandas in /home/acpmi/.local/lib/python3.10/site-packages (2.2.3)\n",
      "Requirement already satisfied: pandasql in /home/acpmi/.local/lib/python3.10/site-packages (0.7.3)\n",
      "Requirement already satisfied: numpy>=1.22.4 in /home/acpmi/.local/lib/python3.10/site-packages (from pandas) (2.1.2)\n",
      "Requirement already satisfied: python-dateutil>=2.8.2 in /home/acpmi/.local/lib/python3.10/site-packages (from pandas) (2.9.0.post0)\n",
      "Requirement already satisfied: pytz>=2020.1 in /home/acpmi/.local/lib/python3.10/site-packages (from pandas) (2024.2)\n",
      "Requirement already satisfied: tzdata>=2022.7 in /home/acpmi/.local/lib/python3.10/site-packages (from pandas) (2024.2)\n",
      "Requirement already satisfied: sqlalchemy in /home/acpmi/.local/lib/python3.10/site-packages (from pandasql) (2.0.36)\n",
      "Requirement already satisfied: six>=1.5 in /home/acpmi/.local/lib/python3.10/site-packages (from python-dateutil>=2.8.2->pandas) (1.16.0)\n",
      "Requirement already satisfied: typing-extensions>=4.6.0 in /home/acpmi/.local/lib/python3.10/site-packages (from sqlalchemy->pandasql) (4.12.2)\n",
      "Requirement already satisfied: greenlet!=0.4.17 in /home/acpmi/.local/lib/python3.10/site-packages (from sqlalchemy->pandasql) (3.1.1)\n",
      "  % Total    % Received % Xferd  Average Speed   Time    Time     Time  Current\n",
      "                                 Dload  Upload   Total   Spent    Left  Speed\n",
      "  0     0    0     0    0     0      0      0 --:--:-- --:--:-- --:--:--     0\n",
      "100   369  100   369    0     0    766      0 --:--:-- --:--:-- --:--:--   766\n",
      "  % Total    % Received % Xferd  Average Speed   Time    Time     Time  Current\n",
      "                                 Dload  Upload   Total   Spent    Left  Speed\n",
      "  0     0    0     0    0     0      0      0 --:--:-- --:--:-- --:--:--     0\n",
      "100   271  100   271    0     0    574      0 --:--:-- --:--:-- --:--:--   574\n"
     ]
    }
   ],
   "source": [
    "!pip install avro pandas pandasql\n",
    "!curl -OL https://github.com/tensorflow/io/raw/master/docs/tutorials/avro/train.avro\n",
    "!curl -OL https://github.com/tensorflow/io/raw/master/docs/tutorials/avro/train.avsc"
   ]
  },
  {
   "cell_type": "code",
   "execution_count": 9,
   "metadata": {},
   "outputs": [
    {
     "name": "stdout",
     "output_type": "stream",
     "text": [
      "{'features': [0, 0, 0, 1, 4], 'label': None, 'dataType': 'TRAINING'}\n",
      "{'features': [0, 0], 'label': 2, 'dataType': 'TRAINING'}\n",
      "{'features': [0], 'label': 3, 'dataType': 'VALIDATION'}\n",
      "{'features': [1], 'label': 4, 'dataType': 'VALIDATION'}\n"
     ]
    }
   ],
   "source": [
    "from avro.io import DatumReader\n",
    "from avro.datafile import DataFileReader\n",
    "\n",
    "import json, copy\n",
    "\n",
    "def print_avro(avro_file, max_record_num=None):\n",
    "    if max_record_num is not None and max_record_num <= 0:\n",
    "        return\n",
    "\n",
    "    with open(avro_file, 'rb') as avro_handler:\n",
    "        reader = DataFileReader(avro_handler, DatumReader())\n",
    "        record_count = 0\n",
    "        for record in reader:\n",
    "            record_count = record_count+1\n",
    "            print(record)\n",
    "            if max_record_num is not None and record_count == max_record_num:\n",
    "               break\n",
    "\n",
    "print_avro(avro_file='train.avro')"
   ]
  },
  {
   "cell_type": "code",
   "execution_count": 10,
   "metadata": {},
   "outputs": [
    {
     "name": "stdout",
     "output_type": "stream",
     "text": [
      "{\n",
      "    \"type\": \"record\",\n",
      "    \"name\": \"ImageDataset\",\n",
      "    \"fields\": [\n",
      "        {\n",
      "            \"type\": {\n",
      "                \"type\": \"array\",\n",
      "                \"items\": \"int\"\n",
      "            },\n",
      "            \"name\": \"features\"\n",
      "        },\n",
      "        {\n",
      "            \"type\": [\n",
      "                \"int\",\n",
      "                \"null\"\n",
      "            ],\n",
      "            \"name\": \"label\"\n",
      "        },\n",
      "        {\n",
      "            \"type\": {\n",
      "                \"type\": \"enum\",\n",
      "                \"name\": \"dataTypes\",\n",
      "                \"symbols\": [\n",
      "                    \"TRAINING\",\n",
      "                    \"VALIDATION\"\n",
      "                ]\n",
      "            },\n",
      "            \"name\": \"dataType\"\n",
      "        }\n",
      "    ]\n",
      "}\n"
     ]
    }
   ],
   "source": [
    "def save_and_print_schema(avro_file, schema_file):\n",
    "    with open(avro_file, 'rb') as avro_handler:\n",
    "        reader = DataFileReader(avro_handler, DatumReader())\n",
    "        metadata = copy.deepcopy(reader.meta)\n",
    "        schema_from_file = json.loads(metadata['avro.schema'])\n",
    "\n",
    "    with open(schema_file, \"w\") as schema_handler:\n",
    "        json.dump(schema_from_file, schema_handler, indent=4)\n",
    "        schema_handler.close()\n",
    "        print(json.dumps(schema_from_file, indent=4))\n",
    "\n",
    "save_and_print_schema(\"train.avro\", \"train_schema.avsc\")"
   ]
  },
  {
   "cell_type": "code",
   "execution_count": 11,
   "metadata": {},
   "outputs": [
    {
     "data": {
      "text/html": [
       "<div>\n",
       "<style scoped>\n",
       "    .dataframe tbody tr th:only-of-type {\n",
       "        vertical-align: middle;\n",
       "    }\n",
       "\n",
       "    .dataframe tbody tr th {\n",
       "        vertical-align: top;\n",
       "    }\n",
       "\n",
       "    .dataframe thead th {\n",
       "        text-align: right;\n",
       "    }\n",
       "</style>\n",
       "<table border=\"1\" class=\"dataframe\">\n",
       "  <thead>\n",
       "    <tr style=\"text-align: right;\">\n",
       "      <th></th>\n",
       "      <th>features</th>\n",
       "      <th>label</th>\n",
       "      <th>dataType</th>\n",
       "    </tr>\n",
       "  </thead>\n",
       "  <tbody>\n",
       "    <tr>\n",
       "      <th>0</th>\n",
       "      <td>[0, 0, 0, 1, 4]</td>\n",
       "      <td>NaN</td>\n",
       "      <td>TRAINING</td>\n",
       "    </tr>\n",
       "    <tr>\n",
       "      <th>1</th>\n",
       "      <td>[0, 0]</td>\n",
       "      <td>2.0</td>\n",
       "      <td>TRAINING</td>\n",
       "    </tr>\n",
       "    <tr>\n",
       "      <th>2</th>\n",
       "      <td>[0]</td>\n",
       "      <td>3.0</td>\n",
       "      <td>VALIDATION</td>\n",
       "    </tr>\n",
       "    <tr>\n",
       "      <th>3</th>\n",
       "      <td>[1]</td>\n",
       "      <td>4.0</td>\n",
       "      <td>VALIDATION</td>\n",
       "    </tr>\n",
       "  </tbody>\n",
       "</table>\n",
       "</div>"
      ],
      "text/plain": [
       "          features  label    dataType\n",
       "0  [0, 0, 0, 1, 4]    NaN    TRAINING\n",
       "1           [0, 0]    2.0    TRAINING\n",
       "2              [0]    3.0  VALIDATION\n",
       "3              [1]    4.0  VALIDATION"
      ]
     },
     "execution_count": 11,
     "metadata": {},
     "output_type": "execute_result"
    }
   ],
   "source": [
    "import pandas as pd\n",
    "\n",
    "def import_avro(avro_file, max_record_num=None):\n",
    "    ret_list=[]\n",
    "    if max_record_num is not None and max_record_num <= 0:\n",
    "        return\n",
    "\n",
    "    with open(avro_file, 'rb') as avro_handler:\n",
    "        reader = DataFileReader(avro_handler, DatumReader())\n",
    "        record_count = 0\n",
    "        for record in reader:\n",
    "            record_count = record_count+1\n",
    "            ret_list.append(record)\n",
    "            if max_record_num is not None and record_count == max_record_num:\n",
    "               break\n",
    "        return(ret_list)\n",
    "\n",
    "ret_list = import_avro(\"train.avro\")\n",
    "ret_frame = pd.DataFrame(ret_list)\n",
    "ret_frame"
   ]
  },
  {
   "cell_type": "code",
   "execution_count": 12,
   "metadata": {},
   "outputs": [
    {
     "data": {
      "text/html": [
       "<div>\n",
       "<style scoped>\n",
       "    .dataframe tbody tr th:only-of-type {\n",
       "        vertical-align: middle;\n",
       "    }\n",
       "\n",
       "    .dataframe tbody tr th {\n",
       "        vertical-align: top;\n",
       "    }\n",
       "\n",
       "    .dataframe thead th {\n",
       "        text-align: right;\n",
       "    }\n",
       "</style>\n",
       "<table border=\"1\" class=\"dataframe\">\n",
       "  <thead>\n",
       "    <tr style=\"text-align: right;\">\n",
       "      <th></th>\n",
       "      <th>label</th>\n",
       "      <th>dataType</th>\n",
       "    </tr>\n",
       "  </thead>\n",
       "  <tbody>\n",
       "    <tr>\n",
       "      <th>0</th>\n",
       "      <td>NaN</td>\n",
       "      <td>TRAINING</td>\n",
       "    </tr>\n",
       "    <tr>\n",
       "      <th>1</th>\n",
       "      <td>2.0</td>\n",
       "      <td>TRAINING</td>\n",
       "    </tr>\n",
       "    <tr>\n",
       "      <th>2</th>\n",
       "      <td>3.0</td>\n",
       "      <td>VALIDATION</td>\n",
       "    </tr>\n",
       "    <tr>\n",
       "      <th>3</th>\n",
       "      <td>4.0</td>\n",
       "      <td>VALIDATION</td>\n",
       "    </tr>\n",
       "  </tbody>\n",
       "</table>\n",
       "</div>"
      ],
      "text/plain": [
       "   label    dataType\n",
       "0    NaN    TRAINING\n",
       "1    2.0    TRAINING\n",
       "2    3.0  VALIDATION\n",
       "3    4.0  VALIDATION"
      ]
     },
     "execution_count": 12,
     "metadata": {},
     "output_type": "execute_result"
    }
   ],
   "source": [
    "from pandasql import sqldf\n",
    "\n",
    "pd2 = ret_frame.drop(\"features\", axis=\"columns\") # pansasql does not support lists in columns\n",
    "pd2"
   ]
  },
  {
   "cell_type": "code",
   "execution_count": 13,
   "metadata": {},
   "outputs": [
    {
     "data": {
      "text/html": [
       "<div>\n",
       "<style scoped>\n",
       "    .dataframe tbody tr th:only-of-type {\n",
       "        vertical-align: middle;\n",
       "    }\n",
       "\n",
       "    .dataframe tbody tr th {\n",
       "        vertical-align: top;\n",
       "    }\n",
       "\n",
       "    .dataframe thead th {\n",
       "        text-align: right;\n",
       "    }\n",
       "</style>\n",
       "<table border=\"1\" class=\"dataframe\">\n",
       "  <thead>\n",
       "    <tr style=\"text-align: right;\">\n",
       "      <th></th>\n",
       "      <th>dataType</th>\n",
       "    </tr>\n",
       "  </thead>\n",
       "  <tbody>\n",
       "    <tr>\n",
       "      <th>0</th>\n",
       "      <td>TRAINING</td>\n",
       "    </tr>\n",
       "    <tr>\n",
       "      <th>1</th>\n",
       "      <td>VALIDATION</td>\n",
       "    </tr>\n",
       "  </tbody>\n",
       "</table>\n",
       "</div>"
      ],
      "text/plain": [
       "     dataType\n",
       "0    TRAINING\n",
       "1  VALIDATION"
      ]
     },
     "execution_count": 13,
     "metadata": {},
     "output_type": "execute_result"
    }
   ],
   "source": [
    "sqldf('''SELECT DISTINCT dataType FROM pd2''')"
   ]
  },
  {
   "cell_type": "code",
   "execution_count": 14,
   "metadata": {},
   "outputs": [
    {
     "data": {
      "text/html": [
       "<div>\n",
       "<style scoped>\n",
       "    .dataframe tbody tr th:only-of-type {\n",
       "        vertical-align: middle;\n",
       "    }\n",
       "\n",
       "    .dataframe tbody tr th {\n",
       "        vertical-align: top;\n",
       "    }\n",
       "\n",
       "    .dataframe thead th {\n",
       "        text-align: right;\n",
       "    }\n",
       "</style>\n",
       "<table border=\"1\" class=\"dataframe\">\n",
       "  <thead>\n",
       "    <tr style=\"text-align: right;\">\n",
       "      <th></th>\n",
       "      <th>dataType</th>\n",
       "      <th>count(dataType)</th>\n",
       "    </tr>\n",
       "  </thead>\n",
       "  <tbody>\n",
       "    <tr>\n",
       "      <th>0</th>\n",
       "      <td>TRAINING</td>\n",
       "      <td>2</td>\n",
       "    </tr>\n",
       "    <tr>\n",
       "      <th>1</th>\n",
       "      <td>VALIDATION</td>\n",
       "      <td>2</td>\n",
       "    </tr>\n",
       "  </tbody>\n",
       "</table>\n",
       "</div>"
      ],
      "text/plain": [
       "     dataType  count(dataType)\n",
       "0    TRAINING                2\n",
       "1  VALIDATION                2"
      ]
     },
     "execution_count": 14,
     "metadata": {},
     "output_type": "execute_result"
    }
   ],
   "source": [
    "sqldf('''SELECT datatype, count(dataType) FROM pd2 GROUP BY dataType''')"
   ]
  },
  {
   "cell_type": "code",
   "execution_count": null,
   "metadata": {},
   "outputs": [],
   "source": []
  }
 ],
 "metadata": {
  "kernelspec": {
   "display_name": "Python 3",
   "language": "python",
   "name": "python3"
  },
  "language_info": {
   "codemirror_mode": {
    "name": "ipython",
    "version": 3
   },
   "file_extension": ".py",
   "mimetype": "text/x-python",
   "name": "python",
   "nbconvert_exporter": "python",
   "pygments_lexer": "ipython3",
   "version": "3.10.12"
  }
 },
 "nbformat": 4,
 "nbformat_minor": 2
}
