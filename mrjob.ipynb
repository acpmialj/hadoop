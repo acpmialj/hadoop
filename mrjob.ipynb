{
 "cells": [
  {
   "cell_type": "code",
   "execution_count": 1,
   "id": "ac30c933-5dee-49c5-8363-6b10345e68e4",
   "metadata": {},
   "outputs": [
    {
     "name": "stdout",
     "output_type": "stream",
     "text": [
      "/tmp/wordcount\n",
      "input\n"
     ]
    }
   ],
   "source": [
    "#\n",
    "# Se crea el directorio de entrada\n",
    "#\n",
    "!rm -rf /tmp/wordcount\n",
    "!mkdir -p /tmp/wordcount/input\n",
    "%cd /tmp/wordcount\n",
    "!ls"
   ]
  },
  {
   "cell_type": "code",
   "execution_count": 2,
   "id": "97119567-5dd1-472c-ad8a-6a9e04d43943",
   "metadata": {},
   "outputs": [
    {
     "name": "stdout",
     "output_type": "stream",
     "text": [
      "Writing input/text0.txt\n"
     ]
    }
   ],
   "source": [
    "%%writefile input/text0.txt\n",
    "Analytics is the discovery, interpretation, and communication of meaningful patterns\n",
    "in data. Especially valuable in areas rich with recorded information, analytics relies\n",
    "on the simultaneous application of statistics, computer programming and operations research\n",
    "to quantify performance.\n",
    "\n",
    "Organizations may apply analytics to business data to describe, predict, and improve business\n",
    "performance. Specifically, areas within analytics include predictive analytics, prescriptive\n",
    "analytics, enterprise decision management, descriptive analytics, cognitive analytics, Big\n",
    "Data Analytics, retail analytics, store assortment and stock-keeping unit optimization,\n",
    "marketing optimization and marketing mix modeling, web analytics, call analytics, speech\n",
    "analytics, sales force sizing and optimization, price and promotion modeling, predictive\n",
    "science, credit risk analysis, and fraud analytics. Since analytics can require extensive\n",
    "computation (see big data), the algorithms and software used for analytics harness the most\n",
    "current methods in computer science, statistics, and mathematics."
   ]
  },
  {
   "cell_type": "code",
   "execution_count": 3,
   "id": "3b3a45ab-70e3-46da-aa85-18d3fe0d7285",
   "metadata": {},
   "outputs": [
    {
     "name": "stdout",
     "output_type": "stream",
     "text": [
      "Writing input/text1.txt\n"
     ]
    }
   ],
   "source": [
    "%%writefile input/text1.txt\n",
    "The field of data analysis. Analytics often involves studying past historical data to\n",
    "research potential trends, to analyze the effects of certain decisions or events, or to\n",
    "evaluate the performance of a given tool or scenario. The goal of analytics is to improve\n",
    "the business by gaining knowledge which can be used to make improvements or changes."
   ]
  },
  {
   "cell_type": "code",
   "execution_count": 4,
   "id": "6454fa83-7fff-4060-896e-1adea4fcf8a5",
   "metadata": {},
   "outputs": [
    {
     "name": "stdout",
     "output_type": "stream",
     "text": [
      "Writing input/text2.txt\n"
     ]
    }
   ],
   "source": [
    "%%writefile input/text2.txt\n",
    "Data analytics (DA) is the process of examining data sets in order to draw conclusions\n",
    "about the information they contain, increasingly with the aid of specialized systems\n",
    "and software. Data analytics technologies and techniques are widely used in commercial\n",
    "industries to enable organizations to make more-informed business decisions and by\n",
    "scientists and researchers to verify or disprove scientific models, theories and\n",
    "hypotheses."
   ]
  },
  {
   "cell_type": "code",
   "execution_count": 5,
   "id": "d10553a7-8073-485d-a902-fe2ef18e98b8",
   "metadata": {},
   "outputs": [
    {
     "name": "stdout",
     "output_type": "stream",
     "text": [
      "Writing word_counter.py\n"
     ]
    }
   ],
   "source": [
    "%%writefile word_counter.py\n",
    "\n",
    "import string\n",
    "\n",
    "from mrjob.job import MRJob\n",
    "\n",
    "\n",
    "class WordCounter(MRJob):\n",
    "    def preprocessing(self, word):\n",
    "        word = word.lower()\n",
    "        word = word.translate(str.maketrans(\"\", \"\", string.punctuation))\n",
    "        word = word.replace(\"\\n\", \"\")\n",
    "        return word\n",
    "\n",
    "    def mapper(self, _, line):\n",
    "        for word in line.split():\n",
    "            word = self.preprocessing(word)\n",
    "            yield word, 1\n",
    "\n",
    "    def reducer(self, key, values):\n",
    "        yield key, sum(values)\n",
    "\n",
    "\n",
    "if __name__ == \"__main__\":\n",
    "    WordCounter.run()"
   ]
  },
  {
   "cell_type": "code",
   "execution_count": 6,
   "id": "5af9bbcc-c4e7-44dc-8ca0-f27c58ad99a2",
   "metadata": {},
   "outputs": [
    {
     "name": "stdout",
     "output_type": "stream",
     "text": [
      "No configs found; falling back on auto-configuration\n",
      "No configs specified for inline runner\n",
      "Creating temp directory /tmp/word_counter.root.20230317.110111.475777\n",
      "Running step 1 of 1...\n",
      "job output is in /tmp/word_counter.root.20230317.110111.475777/output\n",
      "Streaming final output from /tmp/word_counter.root.20230317.110111.475777/output...\n",
      "Removing temp directory /tmp/word_counter.root.20230317.110111.475777...\n",
      "\"a\"\t1\n",
      "\"about\"\t1\n",
      "\"aid\"\t1\n",
      "\"algorithms\"\t1\n",
      "\"analysis\"\t2\n",
      "\"analytics\"\t20\n",
      "\"analyze\"\t1\n",
      "\"and\"\t15\n",
      "\"application\"\t1\n",
      "\"apply\"\t1\n"
     ]
    }
   ],
   "source": [
    "!python3 word_counter.py  input/*.txt | head"
   ]
  },
  {
   "cell_type": "code",
   "execution_count": 7,
   "id": "5be56ae4-e1eb-40a6-ac50-fb24a7bc74b3",
   "metadata": {},
   "outputs": [
    {
     "name": "stdout",
     "output_type": "stream",
     "text": [
      "-rw-r--r--   1 root supergroup       1082 2023-03-17 11:01 input/text0.txt\n",
      "-rw-r--r--   1 root supergroup        349 2023-03-17 11:01 input/text1.txt\n",
      "-rw-r--r--   1 root supergroup        435 2023-03-17 11:01 input/text2.txt\n"
     ]
    }
   ],
   "source": [
    "!hadoop fs -mkdir input\n",
    "!hadoop fs -copyFromLocal input/* input\n",
    "!hadoop fs -ls input/*"
   ]
  },
  {
   "cell_type": "code",
   "execution_count": 8,
   "id": "0084e6d4-5c80-4e74-89fe-6ecca6bdc68a",
   "metadata": {},
   "outputs": [
    {
     "name": "stdout",
     "output_type": "stream",
     "text": [
      "No configs found; falling back on auto-configuration\n",
      "No configs specified for hadoop runner\n",
      "Looking for hadoop binary in /opt/hadoop/bin...\n",
      "Found hadoop binary: /opt/hadoop/bin/hadoop\n",
      "Using Hadoop version 2.10.1\n",
      "Looking for Hadoop streaming jar in /opt/hadoop...\n",
      "Found Hadoop streaming jar: /opt/hadoop/share/hadoop/tools/lib/hadoop-streaming-2.10.1.jar\n",
      "Creating temp directory /tmp/word_counter.root.20230317.110117.509864\n",
      "uploading working dir files to hdfs:///user/root/tmp/mrjob/word_counter.root.20230317.110117.509864/files/wd...\n",
      "Copying other local files to hdfs:///user/root/tmp/mrjob/word_counter.root.20230317.110117.509864/files/\n",
      "Running step 1 of 1...\n",
      "  packageJobJar: [/tmp/hadoop-unjar2968620037757923210/] [] /tmp/streamjob1830253130673648290.jar tmpDir=null\n",
      "Attempting to fetch counters from logs...\n",
      "Can't fetch history log; missing job ID\n",
      "No counters found\n",
      "job output is in hdfs:///user/root/tmp/mrjob/word_counter.root.20230317.110117.509864/output\n",
      "Streaming final output from hdfs:///user/root/tmp/mrjob/word_counter.root.20230317.110117.509864/output...\n",
      "\"a\"\t1\n",
      "\"about\"\t1\n",
      "\"aid\"\t1\n",
      "\"algorithms\"\t1\n",
      "\"analysis\"\t2\n",
      "\"analytics\"\t20\n",
      "\"analyze\"\t1\n",
      "\"and\"\t15\n",
      "\"application\"\t1\n",
      "Removing HDFS temp directory hdfs:///user/root/tmp/mrjob/word_counter.root.20230317.110117.509864...\n",
      "\"apply\"\t1\n",
      "\"are\"\t1\n",
      "\"areas\"\t2\n",
      "\"assortment\"\t1\n",
      "\"be\"\t1\n",
      "\"big\"\t2\n",
      "\"business\"\t4\n",
      "\"by\"\t2\n",
      "\"call\"\t1\n",
      "\"can\"\t2\n",
      "\"certain\"\t1\n",
      "Removing temp directory /tmp/word_counter.root.20230317.110117.509864...\n"
     ]
    }
   ],
   "source": [
    "!python3 word_counter.py -r hadoop hdfs:///user/root/input | head -n 20"
   ]
  },
  {
   "cell_type": "code",
   "execution_count": 9,
   "id": "5de5175e-af98-49b0-9acf-afbffdb9f6e4",
   "metadata": {},
   "outputs": [
    {
     "name": "stdout",
     "output_type": "stream",
     "text": [
      "No configs found; falling back on auto-configuration\n",
      "No configs specified for hadoop runner\n",
      "Looking for hadoop binary in /opt/hadoop/bin...\n",
      "Found hadoop binary: /opt/hadoop/bin/hadoop\n",
      "Using Hadoop version 2.10.1\n",
      "Looking for Hadoop streaming jar in /opt/hadoop...\n",
      "Found Hadoop streaming jar: /opt/hadoop/share/hadoop/tools/lib/hadoop-streaming-2.10.1.jar\n",
      "Creating temp directory /tmp/word_counter.root.20230317.110200.911176\n",
      "uploading working dir files to hdfs:///user/root/tmp/mrjob/word_counter.root.20230317.110200.911176/files/wd...\n",
      "Copying other local files to hdfs:///user/root/tmp/mrjob/word_counter.root.20230317.110200.911176/files/\n",
      "Running step 1 of 1...\n",
      "  packageJobJar: [/tmp/hadoop-unjar894766942577585846/] [] /tmp/streamjob5180413273604877256.jar tmpDir=null\n",
      "Attempting to fetch counters from logs...\n",
      "Can't fetch history log; missing job ID\n",
      "No counters found\n",
      "job output is in hdfs:///user/root/output\n",
      "Removing HDFS temp directory hdfs:///user/root/tmp/mrjob/word_counter.root.20230317.110200.911176...\n",
      "Removing temp directory /tmp/word_counter.root.20230317.110200.911176...\n"
     ]
    }
   ],
   "source": [
    "!python3 word_counter.py -r hadoop hdfs:///user/root/input -o hdfs:///user/root/output"
   ]
  },
  {
   "cell_type": "code",
   "execution_count": 10,
   "id": "a24d0279-a389-4ab3-98b0-af7344d25a3c",
   "metadata": {},
   "outputs": [
    {
     "name": "stdout",
     "output_type": "stream",
     "text": [
      "Found 2 items\n",
      "-rw-r--r--   1 root supergroup          0 2023-03-17 11:02 output/_SUCCESS\n",
      "-rw-r--r--   1 root supergroup       1742 2023-03-17 11:02 output/part-00000\n"
     ]
    }
   ],
   "source": [
    "!hadoop fs -ls output"
   ]
  },
  {
   "cell_type": "code",
   "execution_count": 11,
   "id": "090d49be-dc69-4c26-ba0c-a7677fd0de15",
   "metadata": {},
   "outputs": [
    {
     "name": "stdout",
     "output_type": "stream",
     "text": [
      "\"a\"\t1\n",
      "\"about\"\t1\n",
      "\"aid\"\t1\n",
      "\"algorithms\"\t1\n",
      "\"analysis\"\t2\n",
      "\"analytics\"\t20\n",
      "\"analyze\"\t1\n",
      "\"and\"\t15\n",
      "\"application\"\t1\n",
      "\"apply\"\t1\n"
     ]
    }
   ],
   "source": [
    "!hadoop fs -cat output/part-00000 | head -n 10"
   ]
  },
  {
   "cell_type": "code",
   "execution_count": 12,
   "id": "e97c8ec0-a9f3-4c52-9e6a-b7f8d6e0804a",
   "metadata": {},
   "outputs": [
    {
     "name": "stdout",
     "output_type": "stream",
     "text": [
      "Deleted output\n",
      "Deleted tmp\n",
      "Deleted input\n"
     ]
    }
   ],
   "source": [
    "!hadoop fs -rm -r output\n",
    "!hadoop fs -rm -r tmp\n",
    "!hadoop fs -rm -r input"
   ]
  }
 ],
 "metadata": {
  "kernelspec": {
   "display_name": "Python 3 (ipykernel)",
   "language": "python",
   "name": "python3"
  },
  "language_info": {
   "codemirror_mode": {
    "name": "ipython",
    "version": 3
   },
   "file_extension": ".py",
   "mimetype": "text/x-python",
   "name": "python",
   "nbconvert_exporter": "python",
   "pygments_lexer": "ipython3",
   "version": "3.8.10"
  }
 },
 "nbformat": 4,
 "nbformat_minor": 5
}
