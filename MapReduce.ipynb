{
 "cells": [
  {
   "cell_type": "code",
   "execution_count": 1,
   "id": "201d059c",
   "metadata": {},
   "outputs": [
    {
     "name": "stdout",
     "output_type": "stream",
     "text": [
      "/tmp/wordcount\n",
      "input\n"
     ]
    }
   ],
   "source": [
    "!rm -rf /tmp/wordcount\n",
    "!mkdir -p /tmp/wordcount/input\n",
    "%cd /tmp/wordcount\n",
    "!ls"
   ]
  },
  {
   "cell_type": "code",
   "execution_count": 2,
   "id": "2c6bf27f",
   "metadata": {},
   "outputs": [
    {
     "name": "stdout",
     "output_type": "stream",
     "text": [
      "Writing input/text0.txt\n"
     ]
    }
   ],
   "source": [
    "%%writefile input/text0.txt\n",
    "Analytics is the discovery, interpretation, and communication of meaningful patterns\n",
    "in data. Especially valuable in areas rich with recorded information, analytics relies\n",
    "on the simultaneous application of statistics, computer programming and operations research\n",
    "to quantify performance.\n",
    "\n",
    "Organizations may apply analytics to business data to describe, predict, and improve business\n",
    "performance. Specifically, areas within analytics include predictive analytics, prescriptive\n",
    "analytics, enterprise decision management, descriptive analytics, cognitive analytics, Big\n",
    "Data Analytics, retail analytics, store assortment and stock-keeping unit optimization,\n",
    "marketing optimization and marketing mix modeling, web analytics, call analytics, speech\n",
    "analytics, sales force sizing and optimization, price and promotion modeling, predictive\n",
    "science, credit risk analysis, and fraud analytics. Since analytics can require extensive\n",
    "computation (see big data), the algorithms and software used for analytics harness the most\n",
    "current methods in computer science, statistics, and mathematics."
   ]
  },
  {
   "cell_type": "code",
   "execution_count": 3,
   "id": "71782149",
   "metadata": {},
   "outputs": [
    {
     "name": "stdout",
     "output_type": "stream",
     "text": [
      "Writing input/text1.txt\n"
     ]
    }
   ],
   "source": [
    "%%writefile input/text1.txt\n",
    "The field of data analysis. Analytics often involves studying past historical data to\n",
    "research potential trends, to analyze the effects of certain decisions or events, or to\n",
    "evaluate the performance of a given tool or scenario. The goal of analytics is to improve\n",
    "the business by gaining knowledge which can be used to make improvements or changes."
   ]
  },
  {
   "cell_type": "code",
   "execution_count": 4,
   "id": "07216bae",
   "metadata": {},
   "outputs": [
    {
     "name": "stdout",
     "output_type": "stream",
     "text": [
      "Writing input/text2.txt\n"
     ]
    }
   ],
   "source": [
    "%%writefile input/text2.txt\n",
    "Data analytics (DA) is the process of examining data sets in order to draw conclusions\n",
    "about the information they contain, increasingly with the aid of specialized systems\n",
    "and software. Data analytics technologies and techniques are widely used in commercial\n",
    "industries to enable organizations to make more-informed business decisions and by\n",
    "scientists and researchers to verify or disprove scientific models, theories and\n",
    "hypotheses."
   ]
  },
  {
   "cell_type": "code",
   "execution_count": 5,
   "id": "7fb2b065",
   "metadata": {},
   "outputs": [
    {
     "name": "stdout",
     "output_type": "stream",
     "text": [
      "/usr/bin/python3\n"
     ]
    }
   ],
   "source": [
    "!which python3"
   ]
  },
  {
   "cell_type": "code",
   "execution_count": 6,
   "id": "564581a8",
   "metadata": {},
   "outputs": [
    {
     "name": "stdout",
     "output_type": "stream",
     "text": [
      "Writing mapper.py\n"
     ]
    }
   ],
   "source": [
    "%%writefile mapper.py\n",
    "#! /usr/bin/python3\n",
    "\n",
    "import sys\n",
    "\n",
    "if __name__ == \"__main__\":\n",
    "\n",
    "    for line in sys.stdin:\n",
    "        for word in line.split():\n",
    "            sys.stdout.write(\"{}\\t1\\n\".format(word))"
   ]
  },
  {
   "cell_type": "code",
   "execution_count": 7,
   "id": "c6df3131",
   "metadata": {},
   "outputs": [
    {
     "name": "stdout",
     "output_type": "stream",
     "text": [
      "Writing reducer.py\n"
     ]
    }
   ],
   "source": [
    "%%writefile reducer.py\n",
    "#! /usr/bin/python3\n",
    "\n",
    "import sys\n",
    "\n",
    "if __name__ == '__main__':\n",
    "\n",
    "    curkey = None\n",
    "    total = 0\n",
    "\n",
    "    for line in sys.stdin:\n",
    "\n",
    "        key, val = line.split(\"\\t\")\n",
    "        val = int(val)\n",
    "\n",
    "        if key == curkey:\n",
    "            total += val\n",
    "        else:\n",
    "            if curkey is not None:\n",
    "                sys.stdout.write(\"{}\\t{}\\n\".format(curkey, total))\n",
    "\n",
    "            curkey = key\n",
    "            total = val\n",
    "\n",
    "    sys.stdout.write(\"{}\\t{}\\n\".format(curkey, total))"
   ]
  },
  {
   "cell_type": "code",
   "execution_count": 8,
   "id": "2344864a",
   "metadata": {},
   "outputs": [
    {
     "name": "stdout",
     "output_type": "stream",
     "text": [
      "/tmp/wordcount\n"
     ]
    }
   ],
   "source": [
    "%cd /tmp/wordcount\n",
    "!chmod +x mapper.py reducer.py"
   ]
  },
  {
   "cell_type": "code",
   "execution_count": 9,
   "id": "d8e14130",
   "metadata": {},
   "outputs": [
    {
     "name": "stdout",
     "output_type": "stream",
     "text": [
      "input\n",
      "mapper.py\n",
      "reducer.py\n"
     ]
    }
   ],
   "source": [
    "!ls  -1"
   ]
  },
  {
   "cell_type": "code",
   "execution_count": 10,
   "id": "d5a53138",
   "metadata": {},
   "outputs": [
    {
     "name": "stdout",
     "output_type": "stream",
     "text": [
      "(DA)\t1\n",
      "(see\t1\n",
      "Analytics\t2\n",
      "Analytics,\t1\n",
      "Big\t1\n",
      "Data\t3\n",
      "Especially\t1\n",
      "Organizations\t1\n",
      "Since\t1\n",
      "Specifically,\t1\n"
     ]
    }
   ],
   "source": [
    "!cat input/text*.txt | python3 mapper.py | sort | python3 reducer.py | head"
   ]
  },
  {
   "cell_type": "code",
   "execution_count": 11,
   "id": "ec4a42f4",
   "metadata": {},
   "outputs": [
    {
     "name": "stdout",
     "output_type": "stream",
     "text": [
      "text0.txt\n",
      "text1.txt\n",
      "text2.txt\n"
     ]
    }
   ],
   "source": [
    "!ls -1 input/"
   ]
  },
  {
   "cell_type": "code",
   "execution_count": 12,
   "id": "15477ec1",
   "metadata": {},
   "outputs": [
    {
     "name": "stdout",
     "output_type": "stream",
     "text": [
      "-rw-r--r--   1 root supergroup       1082 2022-11-14 11:57 input/text0.txt\n",
      "-rw-r--r--   1 root supergroup        349 2022-11-14 11:57 input/text1.txt\n",
      "-rw-r--r--   1 root supergroup        435 2022-11-14 11:57 input/text2.txt\n"
     ]
    }
   ],
   "source": [
    "!hadoop fs -mkdir input\n",
    "!hadoop fs -copyFromLocal input/* input\n",
    "!hadoop fs -ls input/*"
   ]
  },
  {
   "cell_type": "code",
   "execution_count": 13,
   "id": "49dc27eb",
   "metadata": {},
   "outputs": [
    {
     "name": "stdout",
     "output_type": "stream",
     "text": [
      "Writing app.sh\n"
     ]
    }
   ],
   "source": [
    "%%writefile app.sh\n",
    "#\n",
    "# Se ejecuta en Hadoop.\n",
    "#   -files: archivos a copiar al hdfs\n",
    "#   -input: archivo de entrada\n",
    "#   -output: directorio de salida\n",
    "#   -file: archivos a copiar de la maquina local al hdfs\n",
    "#   -maper: programa que ejecuta el map\n",
    "#   -reducer: programa que ejecuta la reducción\n",
    "#\n",
    "hdfs dfs -rm -r output\n",
    "\n",
    "hadoop jar \\\n",
    "    $HADOOP_HOME/share/hadoop/tools/lib/hadoop-streaming-*.jar \\\n",
    "    -files mapper.py,reducer.py  \\\n",
    "    -input input  \\\n",
    "    -output output \\\n",
    "    -mapper mapper.py \\\n",
    "    -reducer reducer.py"
   ]
  },
  {
   "cell_type": "code",
   "execution_count": 14,
   "id": "6154af1e",
   "metadata": {},
   "outputs": [
    {
     "name": "stdout",
     "output_type": "stream",
     "text": [
      "rm: `output': No such file or directory\n",
      "packageJobJar: [/tmp/hadoop-unjar2404909606835044089/] [] /tmp/streamjob7780427364479511245.jar tmpDir=null\n"
     ]
    }
   ],
   "source": [
    "!bash app.sh"
   ]
  },
  {
   "cell_type": "code",
   "execution_count": 15,
   "id": "3048d049",
   "metadata": {},
   "outputs": [
    {
     "name": "stdout",
     "output_type": "stream",
     "text": [
      "Found 2 items\n",
      "-rw-r--r--   1 root supergroup          0 2022-11-14 11:57 output/_SUCCESS\n",
      "-rw-r--r--   1 root supergroup       1649 2022-11-14 11:57 output/part-00000\n"
     ]
    }
   ],
   "source": [
    "#\n",
    "# Contenido del directorio con los resultados de la ejecución\n",
    "#\n",
    "!hadoop fs -ls output"
   ]
  },
  {
   "cell_type": "code",
   "execution_count": 16,
   "id": "2b21f3dc",
   "metadata": {},
   "outputs": [
    {
     "name": "stdout",
     "output_type": "stream",
     "text": [
      "(DA)\t1\n",
      "(see\t1\n",
      "Analytics\t2\n",
      "Analytics,\t1\n",
      "Big\t1\n",
      "Data\t3\n",
      "Especially\t1\n",
      "Organizations\t1\n",
      "Since\t1\n",
      "Specifically,\t1\n"
     ]
    }
   ],
   "source": [
    "#\n",
    "# Se visualiza el archivo con los resultados de la ejecución\n",
    "#\n",
    "!hadoop fs -cat output/part-00000 | head"
   ]
  },
  {
   "cell_type": "code",
   "execution_count": 26,
   "id": "0dc259e4",
   "metadata": {},
   "outputs": [
    {
     "name": "stdout",
     "output_type": "stream",
     "text": [
      "Overwriting app_comb.sh\n"
     ]
    }
   ],
   "source": [
    "%%writefile app_comb.sh\n",
    "\n",
    "hdfs dfs -rm -r output\n",
    "hadoop jar $HADOOP_HOME/share/hadoop/tools/lib/hadoop-streaming-*.jar \\\n",
    "   -files mapper.py,reducer.py \\\n",
    "   -input input \\\n",
    "   -output output  \\\n",
    "   -mapper mapper.py \\\n",
    "   -reducer reducer.py \\\n",
    "   -combiner reducer.py"
   ]
  },
  {
   "cell_type": "code",
   "execution_count": 27,
   "id": "c68d6ee1-f267-4af2-8969-bf9f01d9b897",
   "metadata": {},
   "outputs": [
    {
     "name": "stdout",
     "output_type": "stream",
     "text": [
      "rm: `output': No such file or directory\n",
      "packageJobJar: [/tmp/hadoop-unjar4394338336780107802/] [] /tmp/streamjob7884749574085260373.jar tmpDir=null\n"
     ]
    }
   ],
   "source": [
    "!bash app_comb.sh"
   ]
  },
  {
   "cell_type": "code",
   "execution_count": 28,
   "id": "55b532d8-b805-455e-9b23-b3356a736a24",
   "metadata": {},
   "outputs": [
    {
     "name": "stdout",
     "output_type": "stream",
     "text": [
      "(DA)\t1\n",
      "(see\t1\n",
      "Analytics\t2\n",
      "Analytics,\t1\n",
      "Big\t1\n",
      "Data\t3\n",
      "Especially\t1\n",
      "Organizations\t1\n",
      "Since\t1\n",
      "Specifically,\t1\n"
     ]
    }
   ],
   "source": [
    "!hadoop fs -cat output/part-00000 | head"
   ]
  },
  {
   "cell_type": "code",
   "execution_count": null,
   "id": "94486268-bc13-4648-84dc-14e60a854700",
   "metadata": {},
   "outputs": [],
   "source": []
  }
 ],
 "metadata": {
  "kernelspec": {
   "display_name": "Python 3 (ipykernel)",
   "language": "python",
   "name": "python3"
  },
  "language_info": {
   "codemirror_mode": {
    "name": "ipython",
    "version": 3
   },
   "file_extension": ".py",
   "mimetype": "text/x-python",
   "name": "python",
   "nbconvert_exporter": "python",
   "pygments_lexer": "ipython3",
   "version": "3.8.10"
  }
 },
 "nbformat": 4,
 "nbformat_minor": 5
}
